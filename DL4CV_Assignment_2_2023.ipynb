{
  "nbformat": 4,
  "nbformat_minor": 0,
  "metadata": {
    "colab": {
      "provenance": [],
      "gpuType": "T4"
    },
    "kernelspec": {
      "name": "python3",
      "display_name": "Python 3"
    },
    "language_info": {
      "name": "python"
    },
    "accelerator": "GPU"
  },
  "cells": [
    {
      "cell_type": "markdown",
      "source": [
        "## Week 5"
      ],
      "metadata": {
        "id": "HWlQFdLniym4"
      }
    },
    {
      "cell_type": "markdown",
      "source": [
        "**MNIST classification using CNN**"
      ],
      "metadata": {
        "id": "O0eEmi9H7P4M"
      }
    },
    {
      "cell_type": "code",
      "metadata": {
        "id": "8Am6UM5w6DQk"
      },
      "source": [
        "import numpy as np\n",
        "import torch\n",
        "import torch.nn as nn\n",
        "import torch.optim as optim\n",
        "from torchvision import datasets, transforms\n",
        "import torch.nn.functional as F\n",
        "import timeit\n",
        "import unittest\n",
        "\n",
        "## Please DONOT remove these lines.\n",
        "torch.manual_seed(2022)\n",
        "torch.backends.cudnn.deterministic = True\n",
        "torch.backends.cudnn.benchmark = False\n",
        "np.random.seed(2022)"
      ],
      "execution_count": 1,
      "outputs": []
    },
    {
      "cell_type": "markdown",
      "metadata": {
        "id": "RijSOxk76d6u"
      },
      "source": [
        "**Data Loading and Pre-processing**"
      ]
    },
    {
      "cell_type": "code",
      "metadata": {
        "id": "0kJiE9Jw1FAp"
      },
      "source": [
        "# check availability of GPU and set the device accordingly\n",
        "\n",
        "device =torch.device('cuda:0' if torch.cuda.is_available() else 'cpu')\n",
        "\n",
        "\n",
        "# Hyper parameters\n",
        "num_epochs = 10\n",
        "num_classes = 10\n",
        "learning_rate = 0.001\n",
        "\n",
        "# define a transforms for preparing the dataset\n",
        "# for normalization of the MNIST dataset, take mean=0.1307 and std=0.3081\n",
        "\n",
        "#### YOUR CODE STARTS HERE ####\n",
        "transform = transforms.Compose([\n",
        "    transforms.ToTensor(),  # Convert the image to a PyTorch tensor\n",
        "    transforms.Normalize((0.1307,), (0.3081,))  # Normalize with the specified mean and standard deviation\n",
        "])\n",
        "#### YOUR CODE ENDS HERE ####"
      ],
      "execution_count": 2,
      "outputs": []
    },
    {
      "cell_type": "code",
      "metadata": {
        "id": "qQKIXNOr6kJY",
        "colab": {
          "base_uri": "https://localhost:8080/"
        },
        "outputId": "fa006364-9178-4ad2-ffc1-820a2c166233"
      },
      "source": [
        "# Load the MNIST training, test datasets using `torchvision.datasets.MNIST` using the transform defined above\n",
        "#### YOUR CODE STARTS HERE ####\n",
        "train_dataset = datasets.MNIST(root='./data', train=True, transform=transform, download=True)\n",
        "test_dataset = datasets.MNIST(root='./data', train=False, transform=transform, download=True)\n",
        "#### YOUR CODE ENDS HERE ####\n"
      ],
      "execution_count": 3,
      "outputs": [
        {
          "output_type": "stream",
          "name": "stdout",
          "text": [
            "Downloading http://yann.lecun.com/exdb/mnist/train-images-idx3-ubyte.gz\n",
            "Failed to download (trying next):\n",
            "HTTP Error 403: Forbidden\n",
            "\n",
            "Downloading https://ossci-datasets.s3.amazonaws.com/mnist/train-images-idx3-ubyte.gz\n",
            "Downloading https://ossci-datasets.s3.amazonaws.com/mnist/train-images-idx3-ubyte.gz to ./data/MNIST/raw/train-images-idx3-ubyte.gz\n"
          ]
        },
        {
          "output_type": "stream",
          "name": "stderr",
          "text": [
            "100%|██████████| 9912422/9912422 [00:11<00:00, 891731.96it/s] \n"
          ]
        },
        {
          "output_type": "stream",
          "name": "stdout",
          "text": [
            "Extracting ./data/MNIST/raw/train-images-idx3-ubyte.gz to ./data/MNIST/raw\n",
            "\n",
            "Downloading http://yann.lecun.com/exdb/mnist/train-labels-idx1-ubyte.gz\n",
            "Failed to download (trying next):\n",
            "HTTP Error 403: Forbidden\n",
            "\n",
            "Downloading https://ossci-datasets.s3.amazonaws.com/mnist/train-labels-idx1-ubyte.gz\n",
            "Downloading https://ossci-datasets.s3.amazonaws.com/mnist/train-labels-idx1-ubyte.gz to ./data/MNIST/raw/train-labels-idx1-ubyte.gz\n"
          ]
        },
        {
          "output_type": "stream",
          "name": "stderr",
          "text": [
            "100%|██████████| 28881/28881 [00:00<00:00, 126942.82it/s]\n"
          ]
        },
        {
          "output_type": "stream",
          "name": "stdout",
          "text": [
            "Extracting ./data/MNIST/raw/train-labels-idx1-ubyte.gz to ./data/MNIST/raw\n",
            "\n",
            "Downloading http://yann.lecun.com/exdb/mnist/t10k-images-idx3-ubyte.gz\n",
            "Failed to download (trying next):\n",
            "HTTP Error 403: Forbidden\n",
            "\n",
            "Downloading https://ossci-datasets.s3.amazonaws.com/mnist/t10k-images-idx3-ubyte.gz\n",
            "Downloading https://ossci-datasets.s3.amazonaws.com/mnist/t10k-images-idx3-ubyte.gz to ./data/MNIST/raw/t10k-images-idx3-ubyte.gz\n"
          ]
        },
        {
          "output_type": "stream",
          "name": "stderr",
          "text": [
            "100%|██████████| 1648877/1648877 [00:01<00:00, 1179292.72it/s]\n"
          ]
        },
        {
          "output_type": "stream",
          "name": "stdout",
          "text": [
            "Extracting ./data/MNIST/raw/t10k-images-idx3-ubyte.gz to ./data/MNIST/raw\n",
            "\n",
            "Downloading http://yann.lecun.com/exdb/mnist/t10k-labels-idx1-ubyte.gz\n",
            "Failed to download (trying next):\n",
            "HTTP Error 403: Forbidden\n",
            "\n",
            "Downloading https://ossci-datasets.s3.amazonaws.com/mnist/t10k-labels-idx1-ubyte.gz\n",
            "Downloading https://ossci-datasets.s3.amazonaws.com/mnist/t10k-labels-idx1-ubyte.gz to ./data/MNIST/raw/t10k-labels-idx1-ubyte.gz\n"
          ]
        },
        {
          "output_type": "stream",
          "name": "stderr",
          "text": [
            "100%|██████████| 4542/4542 [00:00<00:00, 6163225.09it/s]"
          ]
        },
        {
          "output_type": "stream",
          "name": "stdout",
          "text": [
            "Extracting ./data/MNIST/raw/t10k-labels-idx1-ubyte.gz to ./data/MNIST/raw\n",
            "\n"
          ]
        },
        {
          "output_type": "stream",
          "name": "stderr",
          "text": [
            "\n"
          ]
        }
      ]
    },
    {
      "cell_type": "code",
      "metadata": {
        "id": "JrmrFsgP6mY0"
      },
      "source": [
        "from torch.utils.data import DataLoader\n",
        "\n",
        "# Batch size for both training and test sets\n",
        "batch_size = 32\n",
        "\n",
        "# create dataloaders for training and test datasets\n",
        "# use a batch size of 32 for training and test set and set shuffle=True for the training set\n",
        "#### YOUR CODE STARTS HERE ####\n",
        "train_dataloader = DataLoader(train_dataset, batch_size=batch_size, shuffle=True)\n",
        "test_dataloader = DataLoader(test_dataset, batch_size=batch_size, shuffle=False)\n",
        "#### YOUR CODE ENDS HERE ####"
      ],
      "execution_count": 4,
      "outputs": []
    },
    {
      "cell_type": "markdown",
      "metadata": {
        "id": "mvzxEVks6oKk"
      },
      "source": [
        "**Network Definition**"
      ]
    },
    {
      "cell_type": "code",
      "metadata": {
        "id": "ZHgh0YwJ6288"
      },
      "source": [
        "class ConvolutionNet(nn.Module):\n",
        "    def __init__(self, num_classes=10):\n",
        "        super(ConvolutionNet, self).__init__()\n",
        "\n",
        "        # Define a sequential module with:\n",
        "        # 1. Conv layer with input channel as 1, output channels as 32, kernel size of 5, stride of 1, and padding 2\n",
        "        # 2. 2D BatchNorm of 32 features\n",
        "        # 3. ReLU activation\n",
        "        # 4. 2D MaxPool with kernel size of 2 and stride of 2\n",
        "        self.conv_block1 = nn.Sequential(\n",
        "            nn.Conv2d(in_channels=1, out_channels=32, kernel_size=5, stride=1, padding=2),\n",
        "            nn.BatchNorm2d(32),\n",
        "            nn.ReLU(),\n",
        "            nn.MaxPool2d(kernel_size=2, stride=2)\n",
        "        )\n",
        "\n",
        "        # Define a sequential module with:\n",
        "        # 1. Conv layer with input channel as 32, output channels as 16, kernel size of 7, stride of 1, and padding 3\n",
        "        # 2. 2D BatchNorm of 16 features\n",
        "        # 3. ReLU activation\n",
        "        # 4. 2D MaxPool with kernel size of 2 and stride of 2\n",
        "        self.conv_block2 = nn.Sequential(\n",
        "            nn.Conv2d(in_channels=32, out_channels=16, kernel_size=7, stride=1, padding=3),\n",
        "            nn.BatchNorm2d(16),\n",
        "            nn.ReLU(),\n",
        "            nn.MaxPool2d(kernel_size=2, stride=2)\n",
        "        )\n",
        "\n",
        "        # Define a linear (dense) layer with output features corresponding to the number of classes in the dataset\n",
        "        self.fc = nn.Linear(16 * 7 * 7, num_classes)\n",
        "\n",
        "    def forward(self, x):\n",
        "        # Use the sequential convolution blocks defined above\n",
        "        output = self.conv_block1(x)\n",
        "        output = self.conv_block2(output)\n",
        "\n",
        "        # Flatten the output before passing it through the fully connected layer\n",
        "        output = output.view(output.size(0), -1)\n",
        "        output = self.fc(output)\n",
        "\n",
        "        return output\n",
        "\n"
      ],
      "execution_count": 5,
      "outputs": []
    },
    {
      "cell_type": "code",
      "metadata": {
        "id": "xDApDQj1TClB",
        "colab": {
          "base_uri": "https://localhost:8080/"
        },
        "outputId": "0153fec6-362f-4515-d3df-dd50f7a9d6b3"
      },
      "source": [
        "model = ConvolutionNet(num_classes).to(device)\n",
        "model.conv_block2[0].weight.shape"
      ],
      "execution_count": 6,
      "outputs": [
        {
          "output_type": "execute_result",
          "data": {
            "text/plain": [
              "torch.Size([16, 32, 7, 7])"
            ]
          },
          "metadata": {},
          "execution_count": 6
        }
      ]
    },
    {
      "cell_type": "markdown",
      "metadata": {
        "id": "d8mfP-hKTPOX"
      },
      "source": [
        "### Question 1\n",
        "\n",
        "What is the size of parameter matrix corresponding to convolution layer of second sequential block ?\n",
        "\n",
        "a) 32x16x5x5 \\\\\n",
        "b) 16x32x6x6 \\\\\n",
        "c) 16x32x7x7 \\\\\n",
        "d) 32x16x4x4\n",
        "\n"
      ]
    },
    {
      "cell_type": "markdown",
      "metadata": {
        "id": "I-DeopBwCTgd"
      },
      "source": [
        "**Training and Inference**"
      ]
    },
    {
      "cell_type": "code",
      "metadata": {
        "id": "vyDp2L7rVSYD",
        "colab": {
          "base_uri": "https://localhost:8080/"
        },
        "outputId": "cfe3ddc3-151d-44d1-bd62-a1396f8d8f31"
      },
      "source": [
        "# Define the model\n",
        "#### YOUR CODE STARTS HERE ####\n",
        "model = ConvolutionNet(num_classes).to(device)\n",
        "#### YOUR CODE ENDS HERE ####\n",
        "\n",
        "# Define cross-entropy loss and Adam optimizer using learning rate=learning_rate\n",
        "#### YOUR CODE STARTS HERE ####\n",
        "# Loss and optimizer\n",
        "criterion = nn.CrossEntropyLoss()\n",
        "optimizer = optim.Adam(model.parameters(), lr=learning_rate)\n",
        "#### YOUR CODE ENDS HERE ####\n",
        "\n",
        "# Train the model\n",
        "total_step = len(train_dataloader)\n",
        "for epoch in range(num_epochs):\n",
        "    for i, (images, labels) in enumerate(train_dataloader):\n",
        "        #### YOUR CODE STARTS HERE ####\n",
        "        # Send the images, labels to the device\n",
        "        images = images.to(device)\n",
        "        labels = labels.to(device)\n",
        "\n",
        "        # Flush out the gradients stored in the optimizer\n",
        "        optimizer.zero_grad()\n",
        "\n",
        "        # Pass the images to the model and assign the output to a variable named 'output'\n",
        "        output = model(images)\n",
        "\n",
        "        # Calculate the loss (use cross-entropy in PyTorch)\n",
        "        loss = criterion(output, labels)\n",
        "\n",
        "        # Do a backward pass\n",
        "        loss.backward()\n",
        "\n",
        "        # Update the weights\n",
        "        optimizer.step()\n",
        "        #### YOUR CODE ENDS HERE ####\n",
        "\n",
        "        if (i+1) % 100 == 0:\n",
        "            print('Epoch [{}/{}], Step [{}/{}], Loss: {:.4f}'\n",
        "                  .format(epoch+1, num_epochs, i+1, total_step, loss.item()))\n",
        "\n",
        "# Test the model\n",
        "model.eval()  # eval mode (batchnorm uses moving mean/variance instead of mini-batch mean/variance)\n",
        "with torch.no_grad():\n",
        "    correct = 0\n",
        "    total = 0\n",
        "    for images, labels in test_dataloader:\n",
        "        ### YOUR CODE STARTS HERE ####\n",
        "        # Send the images, labels to the device\n",
        "        images = images.to(device)\n",
        "        labels = labels.to(device)\n",
        "\n",
        "        # Pass the images to the model and assign the output to a variable named 'outputs'\n",
        "        outputs = model(images)\n",
        "        #### YOUR CODE ENDS HERE ####\n",
        "\n",
        "        _, predicted = torch.max(outputs.data, 1)\n",
        "        total += labels.size(0)\n",
        "        correct += (predicted == labels).sum().item()\n",
        "\n",
        "    print('Test Accuracy of the model: {:.2f} %'.format(100 * correct / total))\n"
      ],
      "execution_count": 7,
      "outputs": [
        {
          "output_type": "stream",
          "name": "stdout",
          "text": [
            "Epoch [1/10], Step [100/1875], Loss: 0.2694\n",
            "Epoch [1/10], Step [200/1875], Loss: 0.0598\n",
            "Epoch [1/10], Step [300/1875], Loss: 0.4592\n",
            "Epoch [1/10], Step [400/1875], Loss: 0.0623\n",
            "Epoch [1/10], Step [500/1875], Loss: 0.1016\n",
            "Epoch [1/10], Step [600/1875], Loss: 0.0195\n",
            "Epoch [1/10], Step [700/1875], Loss: 0.0421\n",
            "Epoch [1/10], Step [800/1875], Loss: 0.0199\n",
            "Epoch [1/10], Step [900/1875], Loss: 0.1595\n",
            "Epoch [1/10], Step [1000/1875], Loss: 0.0270\n",
            "Epoch [1/10], Step [1100/1875], Loss: 0.0054\n",
            "Epoch [1/10], Step [1200/1875], Loss: 0.0663\n",
            "Epoch [1/10], Step [1300/1875], Loss: 0.0493\n",
            "Epoch [1/10], Step [1400/1875], Loss: 0.1053\n",
            "Epoch [1/10], Step [1500/1875], Loss: 0.0083\n",
            "Epoch [1/10], Step [1600/1875], Loss: 0.0112\n",
            "Epoch [1/10], Step [1700/1875], Loss: 0.0069\n",
            "Epoch [1/10], Step [1800/1875], Loss: 0.0800\n",
            "Epoch [2/10], Step [100/1875], Loss: 0.0042\n",
            "Epoch [2/10], Step [200/1875], Loss: 0.0043\n",
            "Epoch [2/10], Step [300/1875], Loss: 0.0048\n",
            "Epoch [2/10], Step [400/1875], Loss: 0.0334\n",
            "Epoch [2/10], Step [500/1875], Loss: 0.1414\n",
            "Epoch [2/10], Step [600/1875], Loss: 0.0033\n",
            "Epoch [2/10], Step [700/1875], Loss: 0.0033\n",
            "Epoch [2/10], Step [800/1875], Loss: 0.0145\n",
            "Epoch [2/10], Step [900/1875], Loss: 0.0285\n",
            "Epoch [2/10], Step [1000/1875], Loss: 0.0348\n",
            "Epoch [2/10], Step [1100/1875], Loss: 0.1261\n",
            "Epoch [2/10], Step [1200/1875], Loss: 0.0095\n",
            "Epoch [2/10], Step [1300/1875], Loss: 0.0150\n",
            "Epoch [2/10], Step [1400/1875], Loss: 0.3660\n",
            "Epoch [2/10], Step [1500/1875], Loss: 0.0063\n",
            "Epoch [2/10], Step [1600/1875], Loss: 0.0166\n",
            "Epoch [2/10], Step [1700/1875], Loss: 0.0488\n",
            "Epoch [2/10], Step [1800/1875], Loss: 0.1431\n",
            "Epoch [3/10], Step [100/1875], Loss: 0.0097\n",
            "Epoch [3/10], Step [200/1875], Loss: 0.0016\n",
            "Epoch [3/10], Step [300/1875], Loss: 0.0617\n",
            "Epoch [3/10], Step [400/1875], Loss: 0.0165\n",
            "Epoch [3/10], Step [500/1875], Loss: 0.0120\n",
            "Epoch [3/10], Step [600/1875], Loss: 0.0043\n",
            "Epoch [3/10], Step [700/1875], Loss: 0.0615\n",
            "Epoch [3/10], Step [800/1875], Loss: 0.0011\n",
            "Epoch [3/10], Step [900/1875], Loss: 0.0642\n",
            "Epoch [3/10], Step [1000/1875], Loss: 0.0159\n",
            "Epoch [3/10], Step [1100/1875], Loss: 0.0022\n",
            "Epoch [3/10], Step [1200/1875], Loss: 0.0748\n",
            "Epoch [3/10], Step [1300/1875], Loss: 0.1861\n",
            "Epoch [3/10], Step [1400/1875], Loss: 0.1167\n",
            "Epoch [3/10], Step [1500/1875], Loss: 0.0078\n",
            "Epoch [3/10], Step [1600/1875], Loss: 0.0007\n",
            "Epoch [3/10], Step [1700/1875], Loss: 0.0007\n",
            "Epoch [3/10], Step [1800/1875], Loss: 0.0019\n",
            "Epoch [4/10], Step [100/1875], Loss: 0.0023\n",
            "Epoch [4/10], Step [200/1875], Loss: 0.0045\n",
            "Epoch [4/10], Step [300/1875], Loss: 0.0711\n",
            "Epoch [4/10], Step [400/1875], Loss: 0.0045\n",
            "Epoch [4/10], Step [500/1875], Loss: 0.0049\n",
            "Epoch [4/10], Step [600/1875], Loss: 0.0054\n",
            "Epoch [4/10], Step [700/1875], Loss: 0.0017\n",
            "Epoch [4/10], Step [800/1875], Loss: 0.0121\n",
            "Epoch [4/10], Step [900/1875], Loss: 0.0280\n",
            "Epoch [4/10], Step [1000/1875], Loss: 0.0492\n",
            "Epoch [4/10], Step [1100/1875], Loss: 0.0012\n",
            "Epoch [4/10], Step [1200/1875], Loss: 0.1698\n",
            "Epoch [4/10], Step [1300/1875], Loss: 0.1779\n",
            "Epoch [4/10], Step [1400/1875], Loss: 0.0192\n",
            "Epoch [4/10], Step [1500/1875], Loss: 0.0118\n",
            "Epoch [4/10], Step [1600/1875], Loss: 0.0046\n",
            "Epoch [4/10], Step [1700/1875], Loss: 0.0027\n",
            "Epoch [4/10], Step [1800/1875], Loss: 0.0010\n",
            "Epoch [5/10], Step [100/1875], Loss: 0.0133\n",
            "Epoch [5/10], Step [200/1875], Loss: 0.0029\n",
            "Epoch [5/10], Step [300/1875], Loss: 0.0059\n",
            "Epoch [5/10], Step [400/1875], Loss: 0.0228\n",
            "Epoch [5/10], Step [500/1875], Loss: 0.0108\n",
            "Epoch [5/10], Step [600/1875], Loss: 0.0497\n",
            "Epoch [5/10], Step [700/1875], Loss: 0.0291\n",
            "Epoch [5/10], Step [800/1875], Loss: 0.0024\n",
            "Epoch [5/10], Step [900/1875], Loss: 0.0009\n",
            "Epoch [5/10], Step [1000/1875], Loss: 0.0233\n",
            "Epoch [5/10], Step [1100/1875], Loss: 0.0107\n",
            "Epoch [5/10], Step [1200/1875], Loss: 0.0009\n",
            "Epoch [5/10], Step [1300/1875], Loss: 0.0007\n",
            "Epoch [5/10], Step [1400/1875], Loss: 0.1882\n",
            "Epoch [5/10], Step [1500/1875], Loss: 0.0009\n",
            "Epoch [5/10], Step [1600/1875], Loss: 0.0124\n",
            "Epoch [5/10], Step [1700/1875], Loss: 0.0010\n",
            "Epoch [5/10], Step [1800/1875], Loss: 0.0004\n",
            "Epoch [6/10], Step [100/1875], Loss: 0.0351\n",
            "Epoch [6/10], Step [200/1875], Loss: 0.0176\n",
            "Epoch [6/10], Step [300/1875], Loss: 0.0003\n",
            "Epoch [6/10], Step [400/1875], Loss: 0.0013\n",
            "Epoch [6/10], Step [500/1875], Loss: 0.0052\n",
            "Epoch [6/10], Step [600/1875], Loss: 0.0019\n",
            "Epoch [6/10], Step [700/1875], Loss: 0.0041\n",
            "Epoch [6/10], Step [800/1875], Loss: 0.0005\n",
            "Epoch [6/10], Step [900/1875], Loss: 0.0148\n",
            "Epoch [6/10], Step [1000/1875], Loss: 0.0008\n",
            "Epoch [6/10], Step [1100/1875], Loss: 0.0016\n",
            "Epoch [6/10], Step [1200/1875], Loss: 0.0004\n",
            "Epoch [6/10], Step [1300/1875], Loss: 0.0066\n",
            "Epoch [6/10], Step [1400/1875], Loss: 0.0004\n",
            "Epoch [6/10], Step [1500/1875], Loss: 0.0424\n",
            "Epoch [6/10], Step [1600/1875], Loss: 0.0002\n",
            "Epoch [6/10], Step [1700/1875], Loss: 0.0009\n",
            "Epoch [6/10], Step [1800/1875], Loss: 0.0394\n",
            "Epoch [7/10], Step [100/1875], Loss: 0.0004\n",
            "Epoch [7/10], Step [200/1875], Loss: 0.0007\n",
            "Epoch [7/10], Step [300/1875], Loss: 0.0163\n",
            "Epoch [7/10], Step [400/1875], Loss: 0.0442\n",
            "Epoch [7/10], Step [500/1875], Loss: 0.0013\n",
            "Epoch [7/10], Step [600/1875], Loss: 0.0007\n",
            "Epoch [7/10], Step [700/1875], Loss: 0.0083\n",
            "Epoch [7/10], Step [800/1875], Loss: 0.0005\n",
            "Epoch [7/10], Step [900/1875], Loss: 0.0001\n",
            "Epoch [7/10], Step [1000/1875], Loss: 0.0260\n",
            "Epoch [7/10], Step [1100/1875], Loss: 0.0026\n",
            "Epoch [7/10], Step [1200/1875], Loss: 0.0229\n",
            "Epoch [7/10], Step [1300/1875], Loss: 0.0237\n",
            "Epoch [7/10], Step [1400/1875], Loss: 0.0088\n",
            "Epoch [7/10], Step [1500/1875], Loss: 0.0030\n",
            "Epoch [7/10], Step [1600/1875], Loss: 0.0007\n",
            "Epoch [7/10], Step [1700/1875], Loss: 0.0009\n",
            "Epoch [7/10], Step [1800/1875], Loss: 0.0041\n",
            "Epoch [8/10], Step [100/1875], Loss: 0.0106\n",
            "Epoch [8/10], Step [200/1875], Loss: 0.0131\n",
            "Epoch [8/10], Step [300/1875], Loss: 0.0006\n",
            "Epoch [8/10], Step [400/1875], Loss: 0.0167\n",
            "Epoch [8/10], Step [500/1875], Loss: 0.0061\n",
            "Epoch [8/10], Step [600/1875], Loss: 0.0002\n",
            "Epoch [8/10], Step [700/1875], Loss: 0.0013\n",
            "Epoch [8/10], Step [800/1875], Loss: 0.0723\n",
            "Epoch [8/10], Step [900/1875], Loss: 0.0013\n",
            "Epoch [8/10], Step [1000/1875], Loss: 0.0116\n",
            "Epoch [8/10], Step [1100/1875], Loss: 0.0026\n",
            "Epoch [8/10], Step [1200/1875], Loss: 0.0006\n",
            "Epoch [8/10], Step [1300/1875], Loss: 0.0010\n",
            "Epoch [8/10], Step [1400/1875], Loss: 0.0040\n",
            "Epoch [8/10], Step [1500/1875], Loss: 0.0179\n",
            "Epoch [8/10], Step [1600/1875], Loss: 0.0145\n",
            "Epoch [8/10], Step [1700/1875], Loss: 0.0000\n",
            "Epoch [8/10], Step [1800/1875], Loss: 0.0017\n",
            "Epoch [9/10], Step [100/1875], Loss: 0.0686\n",
            "Epoch [9/10], Step [200/1875], Loss: 0.0035\n",
            "Epoch [9/10], Step [300/1875], Loss: 0.0004\n",
            "Epoch [9/10], Step [400/1875], Loss: 0.0011\n",
            "Epoch [9/10], Step [500/1875], Loss: 0.0013\n",
            "Epoch [9/10], Step [600/1875], Loss: 0.0083\n",
            "Epoch [9/10], Step [700/1875], Loss: 0.0020\n",
            "Epoch [9/10], Step [800/1875], Loss: 0.0212\n",
            "Epoch [9/10], Step [900/1875], Loss: 0.0001\n",
            "Epoch [9/10], Step [1000/1875], Loss: 0.0009\n",
            "Epoch [9/10], Step [1100/1875], Loss: 0.0034\n",
            "Epoch [9/10], Step [1200/1875], Loss: 0.0793\n",
            "Epoch [9/10], Step [1300/1875], Loss: 0.0143\n",
            "Epoch [9/10], Step [1400/1875], Loss: 0.0292\n",
            "Epoch [9/10], Step [1500/1875], Loss: 0.0020\n",
            "Epoch [9/10], Step [1600/1875], Loss: 0.0006\n",
            "Epoch [9/10], Step [1700/1875], Loss: 0.0662\n",
            "Epoch [9/10], Step [1800/1875], Loss: 0.0025\n",
            "Epoch [10/10], Step [100/1875], Loss: 0.0016\n",
            "Epoch [10/10], Step [200/1875], Loss: 0.0002\n",
            "Epoch [10/10], Step [300/1875], Loss: 0.0000\n",
            "Epoch [10/10], Step [400/1875], Loss: 0.0008\n",
            "Epoch [10/10], Step [500/1875], Loss: 0.0006\n",
            "Epoch [10/10], Step [600/1875], Loss: 0.0092\n",
            "Epoch [10/10], Step [700/1875], Loss: 0.0041\n",
            "Epoch [10/10], Step [800/1875], Loss: 0.0281\n",
            "Epoch [10/10], Step [900/1875], Loss: 0.0019\n",
            "Epoch [10/10], Step [1000/1875], Loss: 0.0281\n",
            "Epoch [10/10], Step [1100/1875], Loss: 0.0016\n",
            "Epoch [10/10], Step [1200/1875], Loss: 0.0027\n",
            "Epoch [10/10], Step [1300/1875], Loss: 0.0048\n",
            "Epoch [10/10], Step [1400/1875], Loss: 0.0003\n",
            "Epoch [10/10], Step [1500/1875], Loss: 0.1002\n",
            "Epoch [10/10], Step [1600/1875], Loss: 0.0010\n",
            "Epoch [10/10], Step [1700/1875], Loss: 0.0037\n",
            "Epoch [10/10], Step [1800/1875], Loss: 0.0019\n",
            "Test Accuracy of the model: 99.12 %\n"
          ]
        }
      ]
    },
    {
      "cell_type": "markdown",
      "metadata": {
        "id": "zbyG43crr11p"
      },
      "source": [
        "### Question-2\n",
        "\n",
        "Report the final test accuracy displayed above (Select the closest option).\n",
        "\n",
        "a) 84% \\\\\n",
        "b) 76% \\\\\n",
        "c) 99% \\\\\n",
        "d) 57%\n",
        "\n"
      ]
    },
    {
      "cell_type": "markdown",
      "source": [
        "**Fine-Tuning a pre-trained Resnet18 Model**"
      ],
      "metadata": {
        "id": "5Moc9H93GuA4"
      }
    },
    {
      "cell_type": "code",
      "source": [
        "import torch\n",
        "import torch.nn as nn\n",
        "import torch.optim as optim\n",
        "import numpy as np\n",
        "import torchvision\n",
        "from torchvision import datasets, models, transforms\n",
        "from torchsummary import summary\n",
        "import numpy as np\n",
        "import torch.nn.functional as F\n",
        "import timeit\n",
        "import unittest\n"
      ],
      "metadata": {
        "id": "v3PGuulHGy39"
      },
      "execution_count": 8,
      "outputs": []
    },
    {
      "cell_type": "code",
      "source": [
        "# check availability of GPU and set the device accordingly\n",
        "device =torch.device('cuda:0' if torch.cuda.is_available() else 'cpu')\n",
        "\n",
        "# Hyper parameters\n",
        "num_epochs = 10\n",
        "num_classes = 10\n",
        "learning_rate = 0.001"
      ],
      "metadata": {
        "id": "61scTFlxHmnY"
      },
      "execution_count": 9,
      "outputs": []
    },
    {
      "cell_type": "markdown",
      "source": [
        "Step 1: Load a Resnet18 pretrained model and store it in the variable 'model_res'. Also store the number of input features of **fc** layer in variable num_ftrs.\n",
        "\n",
        "Step 2: Replace the last linear layer of Resnet18 with a Linear layer that outputs a vector of size (num_ftrs,10)."
      ],
      "metadata": {
        "id": "lcUS2SJwz2vx"
      }
    },
    {
      "cell_type": "code",
      "source": [
        "## Please DONOT remove these lines.\n",
        "torch.manual_seed(2022)\n",
        "torch.backends.cudnn.deterministic = True\n",
        "torch.backends.cudnn.benchmark = False\n",
        "np.random.seed(2022)\n",
        "\n",
        "##YOUR CODE STARTS HERE\n",
        "model_res = models.resnet18(pretrained=True)\n",
        "num_ftrs = model_res.fc.in_features\n",
        "model_res.fc = nn.Linear(num_ftrs, 10)\n",
        "##YOUR CODE ENDS HERE\n",
        "model_res = model_res.cuda(device)"
      ],
      "metadata": {
        "id": "6PtHKbGGKXzT",
        "colab": {
          "base_uri": "https://localhost:8080/"
        },
        "outputId": "d122cab3-ed73-4f70-c4ce-b45adc5de29c"
      },
      "execution_count": 10,
      "outputs": [
        {
          "output_type": "stream",
          "name": "stderr",
          "text": [
            "/usr/local/lib/python3.10/dist-packages/torchvision/models/_utils.py:208: UserWarning: The parameter 'pretrained' is deprecated since 0.13 and may be removed in the future, please use 'weights' instead.\n",
            "  warnings.warn(\n",
            "/usr/local/lib/python3.10/dist-packages/torchvision/models/_utils.py:223: UserWarning: Arguments other than a weight enum or `None` for 'weights' are deprecated since 0.13 and may be removed in the future. The current behavior is equivalent to passing `weights=ResNet18_Weights.IMAGENET1K_V1`. You can also use `weights=ResNet18_Weights.DEFAULT` to get the most up-to-date weights.\n",
            "  warnings.warn(msg)\n",
            "Downloading: \"https://download.pytorch.org/models/resnet18-f37072fd.pth\" to /root/.cache/torch/hub/checkpoints/resnet18-f37072fd.pth\n",
            "100%|██████████| 44.7M/44.7M [00:00<00:00, 221MB/s]\n"
          ]
        }
      ]
    },
    {
      "cell_type": "markdown",
      "source": [
        "Step 3: Freeze the parameters of the layer1 and layer 2 of ResNet18 model using the 'layers' list variable"
      ],
      "metadata": {
        "id": "Ot5cgXJ00iNX"
      }
    },
    {
      "cell_type": "code",
      "source": [
        "layers = [model_res.layer1,model_res.layer2]\n",
        "##YOUR CODE STARTS HERE\n",
        "for l in layers:\n",
        "  for param in l.parameters():\n",
        "    param.requires_grad = False\n",
        "## YOUR CODE ENDS HERE"
      ],
      "metadata": {
        "id": "m_yQHey1Q39R"
      },
      "execution_count": 11,
      "outputs": []
    },
    {
      "cell_type": "code",
      "source": [
        "# define a set of transforms for preparing the dataset\n",
        "transform_train = transforms.Compose([\n",
        "        transforms.RandomCrop(32, padding=8),\n",
        "        transforms.RandomHorizontalFlip(), # flip the image horizontally (use pytorch random horizontal flip)\n",
        "        transforms.ToTensor(), # convert the image to a pytorch tensor\n",
        "        transforms.Normalize((0.4914, 0.4822, 0.4465), (0.2023, 0.1994, 0.2010)) # normalise the images with mean and std of the dataset\n",
        "        ])\n",
        "\n",
        "# define transforms for the test data: Should they be same as the one used for train?\n",
        "transform_test = transforms.Compose([\n",
        "        transforms.ToTensor(),\n",
        "        transforms.Normalize((0.4914, 0.4822, 0.4465), (0.2023, 0.1994, 0.2010))\n",
        "        ])\n",
        "\n",
        "use_cuda = torch.cuda.is_available() # if you have acess to a GPU, enable it to speed the training"
      ],
      "metadata": {
        "id": "7WIO9nQW2Cr4"
      },
      "execution_count": 12,
      "outputs": []
    },
    {
      "cell_type": "code",
      "source": [
        "from torchvision.datasets import CIFAR10\n",
        "\n",
        "# Load the CIFAR10 training dataset using the transform defined above\n",
        "train_dataset = CIFAR10(root='./data', train=True, transform=transform_train, download=True)\n",
        "\n",
        "# Load the CIFAR10 test dataset using the transform defined above\n",
        "test_dataset = CIFAR10(root='./data', train=False, transform=transform_test, download=True)"
      ],
      "metadata": {
        "id": "P55gBKKD5npM",
        "colab": {
          "base_uri": "https://localhost:8080/"
        },
        "outputId": "4fa1d944-28ca-4296-b6b3-34f28b270ab0"
      },
      "execution_count": 13,
      "outputs": [
        {
          "output_type": "stream",
          "name": "stdout",
          "text": [
            "Downloading https://www.cs.toronto.edu/~kriz/cifar-10-python.tar.gz to ./data/cifar-10-python.tar.gz\n"
          ]
        },
        {
          "output_type": "stream",
          "name": "stderr",
          "text": [
            "100%|██████████| 170498071/170498071 [00:20<00:00, 8222979.55it/s]\n"
          ]
        },
        {
          "output_type": "stream",
          "name": "stdout",
          "text": [
            "Extracting ./data/cifar-10-python.tar.gz to ./data\n",
            "Files already downloaded and verified\n"
          ]
        }
      ]
    },
    {
      "cell_type": "code",
      "source": [
        "from torch.utils.data import DataLoader\n",
        "\n",
        "# Batch size for both training and test sets\n",
        "batch_size = 32\n",
        "\n",
        "# create dataloaders for training and test datasets\n",
        "# use a batch size of 32 for training and test set and set shuffle=True for the training set\n",
        "#### YOUR CODE STARTS HERE ####\n",
        "train_dataloader = DataLoader(train_dataset, batch_size=batch_size, shuffle=True)\n",
        "test_dataloader = DataLoader(test_dataset, batch_size=batch_size, shuffle=False)\n",
        "#### YOUR CODE ENDS HERE ####"
      ],
      "metadata": {
        "id": "ZILJgLRT1xNN"
      },
      "execution_count": 14,
      "outputs": []
    },
    {
      "cell_type": "code",
      "source": [
        "# Write the model definition, training and testing code exactly as before and replace model name by model_res\n",
        "#### YOUR CODE STARTS HERE ####\n",
        "#define cross entropy loss and Adam optimizer using learning rate=learning_rate\n",
        "# Loss and optimizer\n",
        "criterion = nn.CrossEntropyLoss()\n",
        "optimizer = optim.Adam(model_res.parameters(), lr=learning_rate)\n",
        "# Train the model\n",
        "total_step = len(train_dataloader)\n",
        "for epoch in range(num_epochs):\n",
        "    for i, (images, labels) in enumerate(train_dataloader):\n",
        "        # send the images, labels to the device\n",
        "        images = images.to(device)\n",
        "        labels = labels.to(device)\n",
        "\n",
        "        # Flush out the gradients stored in the optimizer\n",
        "        optimizer.zero_grad()\n",
        "\n",
        "        # Pass the images to the model and assign the output to a variable named 'output'\n",
        "        output = model_res(images)\n",
        "\n",
        "        # Calculate the loss (use cross-entropy in PyTorch)\n",
        "        loss = criterion(output, labels)\n",
        "\n",
        "        # Do a backward pass\n",
        "        loss.backward()\n",
        "\n",
        "        # Update the weights\n",
        "        optimizer.step()\n",
        "        if (i+1) % 100 == 0:\n",
        "            print ('Epoch [{}/{}], Step [{}/{}], Loss: {:.4f}'\n",
        "                   .format(epoch+1, num_epochs, i+1, total_step, loss.item()))\n",
        "\n",
        "# Test the model\n",
        "model_res.eval() # eval mode (batchnorm uses moving mean/variance instead of mini-batch mean/variance)\n",
        "with torch.no_grad():\n",
        "    correct = 0\n",
        "    total = 0\n",
        "    for images, labels in test_dataloader:\n",
        "        # send the image, labels to the device\n",
        "        images = images.to(device)\n",
        "        labels = labels.to(device)\n",
        "\n",
        "        # Pass the images to the model and assign the output to a variable named 'outputs'\n",
        "        outputs = model_res(images)\n",
        "        #### YOUR CODE ENDS HERE ####\n",
        "\n",
        "        _, predicted = torch.max(outputs.data, 1)\n",
        "        total += labels.size(0)\n",
        "        correct += (predicted == labels).sum().item()\n",
        "\n",
        "    print('Test Accuracy of the model : {} %'.format(100 * correct / total))\n",
        "#### YOUR CODE ENDS HERE ####"
      ],
      "metadata": {
        "id": "FERxdtIv2Zdj",
        "colab": {
          "base_uri": "https://localhost:8080/"
        },
        "outputId": "0241aa19-68c3-4189-dffa-4ab87682ca88"
      },
      "execution_count": 15,
      "outputs": [
        {
          "output_type": "stream",
          "name": "stdout",
          "text": [
            "Epoch [1/10], Step [100/1563], Loss: 1.7505\n",
            "Epoch [1/10], Step [200/1563], Loss: 1.4074\n",
            "Epoch [1/10], Step [300/1563], Loss: 1.3708\n",
            "Epoch [1/10], Step [400/1563], Loss: 1.3960\n",
            "Epoch [1/10], Step [500/1563], Loss: 1.6107\n",
            "Epoch [1/10], Step [600/1563], Loss: 1.0205\n",
            "Epoch [1/10], Step [700/1563], Loss: 1.3820\n",
            "Epoch [1/10], Step [800/1563], Loss: 1.4931\n",
            "Epoch [1/10], Step [900/1563], Loss: 1.4771\n",
            "Epoch [1/10], Step [1000/1563], Loss: 1.5143\n",
            "Epoch [1/10], Step [1100/1563], Loss: 1.2520\n",
            "Epoch [1/10], Step [1200/1563], Loss: 1.0401\n",
            "Epoch [1/10], Step [1300/1563], Loss: 1.1296\n",
            "Epoch [1/10], Step [1400/1563], Loss: 1.1254\n",
            "Epoch [1/10], Step [1500/1563], Loss: 1.2765\n",
            "Epoch [2/10], Step [100/1563], Loss: 1.2082\n",
            "Epoch [2/10], Step [200/1563], Loss: 0.9097\n",
            "Epoch [2/10], Step [300/1563], Loss: 0.7763\n",
            "Epoch [2/10], Step [400/1563], Loss: 1.2824\n",
            "Epoch [2/10], Step [500/1563], Loss: 1.1470\n",
            "Epoch [2/10], Step [600/1563], Loss: 1.0453\n",
            "Epoch [2/10], Step [700/1563], Loss: 0.9824\n",
            "Epoch [2/10], Step [800/1563], Loss: 0.9771\n",
            "Epoch [2/10], Step [900/1563], Loss: 1.4279\n",
            "Epoch [2/10], Step [1000/1563], Loss: 1.1277\n",
            "Epoch [2/10], Step [1100/1563], Loss: 1.1108\n",
            "Epoch [2/10], Step [1200/1563], Loss: 0.8383\n",
            "Epoch [2/10], Step [1300/1563], Loss: 0.8802\n",
            "Epoch [2/10], Step [1400/1563], Loss: 0.7874\n",
            "Epoch [2/10], Step [1500/1563], Loss: 1.4175\n",
            "Epoch [3/10], Step [100/1563], Loss: 1.0102\n",
            "Epoch [3/10], Step [200/1563], Loss: 0.8370\n",
            "Epoch [3/10], Step [300/1563], Loss: 1.3843\n",
            "Epoch [3/10], Step [400/1563], Loss: 0.5282\n",
            "Epoch [3/10], Step [500/1563], Loss: 1.3829\n",
            "Epoch [3/10], Step [600/1563], Loss: 1.1336\n",
            "Epoch [3/10], Step [700/1563], Loss: 0.9850\n",
            "Epoch [3/10], Step [800/1563], Loss: 0.9581\n",
            "Epoch [3/10], Step [900/1563], Loss: 1.2798\n",
            "Epoch [3/10], Step [1000/1563], Loss: 1.2505\n",
            "Epoch [3/10], Step [1100/1563], Loss: 1.3859\n",
            "Epoch [3/10], Step [1200/1563], Loss: 1.0837\n",
            "Epoch [3/10], Step [1300/1563], Loss: 1.0012\n",
            "Epoch [3/10], Step [1400/1563], Loss: 0.8834\n",
            "Epoch [3/10], Step [1500/1563], Loss: 0.9163\n",
            "Epoch [4/10], Step [100/1563], Loss: 0.8725\n",
            "Epoch [4/10], Step [200/1563], Loss: 0.7287\n",
            "Epoch [4/10], Step [300/1563], Loss: 1.0903\n",
            "Epoch [4/10], Step [400/1563], Loss: 0.9139\n",
            "Epoch [4/10], Step [500/1563], Loss: 1.0866\n",
            "Epoch [4/10], Step [600/1563], Loss: 1.4130\n",
            "Epoch [4/10], Step [700/1563], Loss: 0.7718\n",
            "Epoch [4/10], Step [800/1563], Loss: 1.1131\n",
            "Epoch [4/10], Step [900/1563], Loss: 0.7740\n",
            "Epoch [4/10], Step [1000/1563], Loss: 0.8994\n",
            "Epoch [4/10], Step [1100/1563], Loss: 1.1038\n",
            "Epoch [4/10], Step [1200/1563], Loss: 0.9501\n",
            "Epoch [4/10], Step [1300/1563], Loss: 0.8805\n",
            "Epoch [4/10], Step [1400/1563], Loss: 0.9424\n",
            "Epoch [4/10], Step [1500/1563], Loss: 0.9705\n",
            "Epoch [5/10], Step [100/1563], Loss: 1.2234\n",
            "Epoch [5/10], Step [200/1563], Loss: 1.1223\n",
            "Epoch [5/10], Step [300/1563], Loss: 0.9581\n",
            "Epoch [5/10], Step [400/1563], Loss: 0.8088\n",
            "Epoch [5/10], Step [500/1563], Loss: 0.8007\n",
            "Epoch [5/10], Step [600/1563], Loss: 1.2221\n",
            "Epoch [5/10], Step [700/1563], Loss: 0.7095\n",
            "Epoch [5/10], Step [800/1563], Loss: 0.8095\n",
            "Epoch [5/10], Step [900/1563], Loss: 0.8406\n",
            "Epoch [5/10], Step [1000/1563], Loss: 0.9255\n",
            "Epoch [5/10], Step [1100/1563], Loss: 0.7824\n",
            "Epoch [5/10], Step [1200/1563], Loss: 0.7341\n",
            "Epoch [5/10], Step [1300/1563], Loss: 0.6239\n",
            "Epoch [5/10], Step [1400/1563], Loss: 0.5058\n",
            "Epoch [5/10], Step [1500/1563], Loss: 0.9242\n",
            "Epoch [6/10], Step [100/1563], Loss: 0.6585\n",
            "Epoch [6/10], Step [200/1563], Loss: 1.0123\n",
            "Epoch [6/10], Step [300/1563], Loss: 1.1851\n",
            "Epoch [6/10], Step [400/1563], Loss: 0.9160\n",
            "Epoch [6/10], Step [500/1563], Loss: 1.0452\n",
            "Epoch [6/10], Step [600/1563], Loss: 1.0088\n",
            "Epoch [6/10], Step [700/1563], Loss: 0.9304\n",
            "Epoch [6/10], Step [800/1563], Loss: 0.7700\n",
            "Epoch [6/10], Step [900/1563], Loss: 0.8372\n",
            "Epoch [6/10], Step [1000/1563], Loss: 0.4783\n",
            "Epoch [6/10], Step [1100/1563], Loss: 0.8456\n",
            "Epoch [6/10], Step [1200/1563], Loss: 1.0818\n",
            "Epoch [6/10], Step [1300/1563], Loss: 0.7996\n",
            "Epoch [6/10], Step [1400/1563], Loss: 0.6609\n",
            "Epoch [6/10], Step [1500/1563], Loss: 0.5357\n",
            "Epoch [7/10], Step [100/1563], Loss: 1.0016\n",
            "Epoch [7/10], Step [200/1563], Loss: 0.6557\n",
            "Epoch [7/10], Step [300/1563], Loss: 0.6985\n",
            "Epoch [7/10], Step [400/1563], Loss: 0.9833\n",
            "Epoch [7/10], Step [500/1563], Loss: 1.0256\n",
            "Epoch [7/10], Step [600/1563], Loss: 0.8106\n",
            "Epoch [7/10], Step [700/1563], Loss: 0.8732\n",
            "Epoch [7/10], Step [800/1563], Loss: 1.2585\n",
            "Epoch [7/10], Step [900/1563], Loss: 1.1734\n",
            "Epoch [7/10], Step [1000/1563], Loss: 1.1300\n",
            "Epoch [7/10], Step [1100/1563], Loss: 0.8763\n",
            "Epoch [7/10], Step [1200/1563], Loss: 0.7329\n",
            "Epoch [7/10], Step [1300/1563], Loss: 1.0657\n",
            "Epoch [7/10], Step [1400/1563], Loss: 0.9888\n",
            "Epoch [7/10], Step [1500/1563], Loss: 0.9056\n",
            "Epoch [8/10], Step [100/1563], Loss: 1.0735\n",
            "Epoch [8/10], Step [200/1563], Loss: 1.1623\n",
            "Epoch [8/10], Step [300/1563], Loss: 0.9506\n",
            "Epoch [8/10], Step [400/1563], Loss: 0.5519\n",
            "Epoch [8/10], Step [500/1563], Loss: 0.9918\n",
            "Epoch [8/10], Step [600/1563], Loss: 0.5900\n",
            "Epoch [8/10], Step [700/1563], Loss: 0.6287\n",
            "Epoch [8/10], Step [800/1563], Loss: 0.6836\n",
            "Epoch [8/10], Step [900/1563], Loss: 0.7227\n",
            "Epoch [8/10], Step [1000/1563], Loss: 1.0514\n",
            "Epoch [8/10], Step [1100/1563], Loss: 0.7293\n",
            "Epoch [8/10], Step [1200/1563], Loss: 0.5125\n",
            "Epoch [8/10], Step [1300/1563], Loss: 1.0610\n",
            "Epoch [8/10], Step [1400/1563], Loss: 0.6136\n",
            "Epoch [8/10], Step [1500/1563], Loss: 0.8577\n",
            "Epoch [9/10], Step [100/1563], Loss: 0.9129\n",
            "Epoch [9/10], Step [200/1563], Loss: 0.9547\n",
            "Epoch [9/10], Step [300/1563], Loss: 0.9198\n",
            "Epoch [9/10], Step [400/1563], Loss: 0.8790\n",
            "Epoch [9/10], Step [500/1563], Loss: 0.9571\n",
            "Epoch [9/10], Step [600/1563], Loss: 0.7466\n",
            "Epoch [9/10], Step [700/1563], Loss: 0.9661\n",
            "Epoch [9/10], Step [800/1563], Loss: 0.3598\n",
            "Epoch [9/10], Step [900/1563], Loss: 0.8188\n",
            "Epoch [9/10], Step [1000/1563], Loss: 0.5023\n",
            "Epoch [9/10], Step [1100/1563], Loss: 0.7143\n",
            "Epoch [9/10], Step [1200/1563], Loss: 0.4487\n",
            "Epoch [9/10], Step [1300/1563], Loss: 0.6543\n",
            "Epoch [9/10], Step [1400/1563], Loss: 0.6998\n",
            "Epoch [9/10], Step [1500/1563], Loss: 1.0074\n",
            "Epoch [10/10], Step [100/1563], Loss: 0.9497\n",
            "Epoch [10/10], Step [200/1563], Loss: 0.7517\n",
            "Epoch [10/10], Step [300/1563], Loss: 0.8915\n",
            "Epoch [10/10], Step [400/1563], Loss: 0.6454\n",
            "Epoch [10/10], Step [500/1563], Loss: 0.8639\n",
            "Epoch [10/10], Step [600/1563], Loss: 0.7665\n",
            "Epoch [10/10], Step [700/1563], Loss: 1.1591\n",
            "Epoch [10/10], Step [800/1563], Loss: 0.7156\n",
            "Epoch [10/10], Step [900/1563], Loss: 0.8289\n",
            "Epoch [10/10], Step [1000/1563], Loss: 0.6178\n",
            "Epoch [10/10], Step [1100/1563], Loss: 0.5093\n",
            "Epoch [10/10], Step [1200/1563], Loss: 0.4045\n",
            "Epoch [10/10], Step [1300/1563], Loss: 0.8247\n",
            "Epoch [10/10], Step [1400/1563], Loss: 0.5114\n",
            "Epoch [10/10], Step [1500/1563], Loss: 0.6371\n",
            "Test Accuracy of the model : 74.04 %\n"
          ]
        }
      ]
    },
    {
      "cell_type": "markdown",
      "source": [
        "### Question 3\n",
        "What is the test accuracy after fine tuning?(Select the closest answer)\n",
        "\n",
        "a) 75% \\\\\n",
        "b) 80% \\\\\n",
        "c) 85% \\\\\n",
        "d) 90%"
      ],
      "metadata": {
        "id": "DfB6i_ozOPRl"
      }
    },
    {
      "cell_type": "markdown",
      "source": [
        "## Week 6"
      ],
      "metadata": {
        "id": "9vFZuxBMOnjj"
      }
    },
    {
      "cell_type": "markdown",
      "source": [
        "**Saliency map using simple gradient method**"
      ],
      "metadata": {
        "id": "NNfcEKNqjllo"
      }
    },
    {
      "cell_type": "code",
      "execution_count": null,
      "metadata": {
        "id": "iR7q1E4s706C"
      },
      "outputs": [],
      "source": [
        "#IMPORTS\n",
        "import torch\n",
        "import torchvision\n",
        "import torch.nn as nn\n",
        "import torchvision.transforms as T\n",
        "import numpy as np\n",
        "import matplotlib.pyplot as plt\n",
        "from torchsummary import summary\n",
        "from PIL import Image\n",
        "import torchvision.models as models\n",
        "from torch.autograd import Variable\n",
        "import seaborn as sns\n",
        "import cv2\n"
      ]
    },
    {
      "cell_type": "code",
      "source": [
        "#Custom function to display the image using matplotlib\n",
        "def imshow(img, title):\n",
        "  plt.figure(figsize = (4, 4))\n",
        "  plt.axis(\"off\")\n",
        "  plt.imshow(img)\n",
        "  plt.title(title)\n",
        "  plt.show()\n",
        "\n",
        "#custom function to preprocess the image\n",
        "def preprocess_image(img, resize_im=True):\n",
        "    # mean and std list for channels (Imagenet)\n",
        "    mean = [0.485, 0.456, 0.406]\n",
        "    std = [0.229, 0.224, 0.225]\n",
        "\n",
        "    #ensure or transform incoming image to PIL image\n",
        "    if type(img) != Image.Image:\n",
        "        try:\n",
        "            img = Image.fromarray(img)\n",
        "        except Exception as e:\n",
        "            print(\"could not transform PIL_img to a PIL Image object. Please check input.\")\n",
        "\n",
        "    # Resize image\n",
        "    if resize_im:\n",
        "        img = img.resize((224, 224), Image.ANTIALIAS)\n",
        "\n",
        "    im_arr = np.float32(img)\n",
        "    im_arr = im_arr.transpose(2, 0, 1)  # Convert array to D,W,H\n",
        "    # Normalize the channels\n",
        "    for channel, _ in enumerate(im_arr):\n",
        "        im_arr[channel] /= 255\n",
        "        im_arr[channel] -= mean[channel]\n",
        "        im_arr[channel] /= std[channel]\n",
        "    # Convert to float tensor\n",
        "    im_float = torch.from_numpy(im_arr).float()\n",
        "    # Add one more channel to the beginning. Tensor shape = 1,3,224,224\n",
        "    im_float.unsqueeze_(0)\n",
        "    # Convert to Pytorch variable\n",
        "    im_var = Variable(im_float, requires_grad=True)\n",
        "    return im_var\n"
      ],
      "metadata": {
        "id": "1M6Ne2-cx85K"
      },
      "execution_count": null,
      "outputs": []
    },
    {
      "cell_type": "code",
      "source": [
        "#importing the imagenet-pretrained vgg16 model\n",
        "model = torchvision.models.vgg16(pretrained=True)\n",
        "\n",
        "#setting the grad option to false because we do not have to train the model\n",
        "for param in model.parameters():\n",
        "    param.requires_grad = False\n",
        "\n",
        "# reading the input image\n",
        "img = Image.open('car.png').convert('RGB')\n",
        "\n",
        "#calling the above defined preprocessing function\n",
        "X = preprocess_image(img)\n",
        "\n",
        "### YOUR CODE STARTS HERE ###\n",
        "\n",
        "#we would run the model in evaluation mode\n",
        "model.eval()\n",
        "\n",
        "# we need to find the gradient with respect to the input image, so we need to call requires_grad_ on it\n",
        "# find more info regarding the same here: https://pytorch.org/docs/stable/generated/torch.Tensor.requires_grad_.html\n",
        "X.requires_grad_()\n",
        "\n",
        "#forward pass through the model to get the logit scores.\n",
        "logits = model(X)\n",
        "\n",
        "# Get the index corresponding to the maximum score and the maximum score itself.\n",
        "logits_max_index = torch.argmax(logits, dim=1)\n",
        "logits_max = logits[0, logits_max_index]\n",
        "\n",
        "\n",
        "#backward function on logits_max performs the backward pass in the computation graph and calculates the gradient of\n",
        "#logits_max with respect to nodes in the computation graph\n",
        "\n",
        "logits_max.backward()\n",
        "### YOUR CODE ENDS HERE ###\n",
        "\n",
        "absolute_value = torch.squeeze(X.grad.data.abs())\n",
        "\n",
        "### YOUR CODE STARTS HERE ###\n",
        "\n",
        "#Saliency would be the gradient with respect to the input image now. But note that the input image has 3 channels,\n",
        "#R, G and B. Now, take the max pixel value accross each channel and take the mean of these values.\n",
        "#iterating through every channel to obtain the max of each channel\n",
        "\n",
        "max_values = []\n",
        "for i in range(absolute_value.shape[0]):\n",
        "  max_values.append(absolute_value[i].max())\n",
        "\n",
        "#calculating the mean of the values obtained using the above loop\n",
        "saliency_mean = sum(max_values) / len(max_values)\n",
        "\n",
        "print(\"Saliency Map Mean Value:\", saliency_mean)\n",
        "\n",
        "### YOUR CODE ENDS HERE ###"
      ],
      "metadata": {
        "id": "KaKKKR9g8rRA",
        "colab": {
          "base_uri": "https://localhost:8080/"
        },
        "outputId": "51427c82-0132-49ef-a4ee-6c3a1436a3eb"
      },
      "execution_count": null,
      "outputs": [
        {
          "output_type": "stream",
          "name": "stderr",
          "text": [
            "<ipython-input-20-b7e9a614dc50>:24: DeprecationWarning: ANTIALIAS is deprecated and will be removed in Pillow 10 (2023-07-01). Use LANCZOS or Resampling.LANCZOS instead.\n",
            "  img = img.resize((224, 224), Image.ANTIALIAS)\n"
          ]
        },
        {
          "output_type": "stream",
          "name": "stdout",
          "text": [
            "Saliency Map Mean Value: tensor(0.1094)\n"
          ]
        }
      ]
    },
    {
      "cell_type": "markdown",
      "source": [
        "### Question 4:\n",
        "Given a Pretrained VGG16 model, find out the mean of the maximum pixel values across each channel of the saliency map generated using the \"Simple Gradient\" method.\n",
        "\n",
        "a)   Mean - 0.1094 \\\\\n",
        "b)   Mean - 0.1121 \\\\\n",
        "c)   Mean - 0.1258 \\\\\n",
        "d)   Mean - 0.1248\n"
      ],
      "metadata": {
        "id": "tRZLgm_TKp2m"
      }
    },
    {
      "cell_type": "markdown",
      "source": [
        "**Occulusion experiment: We will find the difference in the bottleneck features of VGG-16 pretrained model in the presence of occulusion.**\n",
        "\n"
      ],
      "metadata": {
        "id": "OBBe2EkIjIjv"
      }
    },
    {
      "cell_type": "markdown",
      "source": [
        "Step 1: Create a square mask on img1 (fox image) and store it in the variable 'occ'."
      ],
      "metadata": {
        "id": "U5R_dsFOj7I6"
      }
    },
    {
      "cell_type": "code",
      "source": [
        "img1 = cv2.imread('/content/fox.jpg')\n",
        "img1 = cv2.resize(img1, (224, 224))\n",
        "\n",
        "\n",
        "#make a square mask (using black pixels) on the input image with the the coordinates mentioned start height=100, start width =75,\n",
        "#end height=180, end width=155\n",
        "\n",
        "occ = cv2.rectangle(img1, (100, 75), (180, 155), (0, 0, 0), -1)\n",
        "\n",
        "\n",
        "#visualising the image after masking\n",
        "cv2_imshow(occ)"
      ],
      "metadata": {
        "id": "Yrct1hkWbEQw",
        "colab": {
          "base_uri": "https://localhost:8080/",
          "height": 241
        },
        "outputId": "a4f1fe8f-9c40-4f74-a09f-173d86ccdad8"
      },
      "execution_count": null,
      "outputs": [
        {
          "output_type": "display_data",
          "data": {
            "text/plain": [
              "<PIL.Image.Image image mode=RGB size=224x224>"
            ],
            "image/png": "[encoded data removed]"
          },
          "metadata": {}
        }
      ]
    },
    {
      "cell_type": "code",
      "source": [
        "image = Image.open('fox.jpg').convert('RGB') #Load the original fox image"
      ],
      "metadata": {
        "id": "tQCuwUaEpQb4"
      },
      "execution_count": null,
      "outputs": []
    },
    {
      "cell_type": "markdown",
      "source": [
        "Step 2: Load the pretrained VGG-16 model from torchvision and store it in 'model_vgg'.\n",
        "(VGG-16 contains two main layers features and classifier). The features layer outputs after the final max pool operation as you can see from the output. This output is also called as 'Bottleneck features'.\n",
        "\n"
      ],
      "metadata": {
        "id": "1en_Xu_usYkK"
      }
    },
    {
      "cell_type": "code",
      "source": [
        "# Load the pretrained VGG-16 model\n",
        "model_vgg = models.vgg16(pretrained=True)\n",
        "\n",
        "# Print the features layer, which contains the bottleneck features\n",
        "model_vgg.features"
      ],
      "metadata": {
        "id": "qx5uSch1tzjj",
        "colab": {
          "base_uri": "https://localhost:8080/"
        },
        "outputId": "3150aa41-746a-415e-e866-4a3ebc7de3cb"
      },
      "execution_count": null,
      "outputs": [
        {
          "output_type": "execute_result",
          "data": {
            "text/plain": [
              "Sequential(\n",
              "  (0): Conv2d(3, 64, kernel_size=(3, 3), stride=(1, 1), padding=(1, 1))\n",
              "  (1): ReLU(inplace=True)\n",
              "  (2): Conv2d(64, 64, kernel_size=(3, 3), stride=(1, 1), padding=(1, 1))\n",
              "  (3): ReLU(inplace=True)\n",
              "  (4): MaxPool2d(kernel_size=2, stride=2, padding=0, dilation=1, ceil_mode=False)\n",
              "  (5): Conv2d(64, 128, kernel_size=(3, 3), stride=(1, 1), padding=(1, 1))\n",
              "  (6): ReLU(inplace=True)\n",
              "  (7): Conv2d(128, 128, kernel_size=(3, 3), stride=(1, 1), padding=(1, 1))\n",
              "  (8): ReLU(inplace=True)\n",
              "  (9): MaxPool2d(kernel_size=2, stride=2, padding=0, dilation=1, ceil_mode=False)\n",
              "  (10): Conv2d(128, 256, kernel_size=(3, 3), stride=(1, 1), padding=(1, 1))\n",
              "  (11): ReLU(inplace=True)\n",
              "  (12): Conv2d(256, 256, kernel_size=(3, 3), stride=(1, 1), padding=(1, 1))\n",
              "  (13): ReLU(inplace=True)\n",
              "  (14): Conv2d(256, 256, kernel_size=(3, 3), stride=(1, 1), padding=(1, 1))\n",
              "  (15): ReLU(inplace=True)\n",
              "  (16): MaxPool2d(kernel_size=2, stride=2, padding=0, dilation=1, ceil_mode=False)\n",
              "  (17): Conv2d(256, 512, kernel_size=(3, 3), stride=(1, 1), padding=(1, 1))\n",
              "  (18): ReLU(inplace=True)\n",
              "  (19): Conv2d(512, 512, kernel_size=(3, 3), stride=(1, 1), padding=(1, 1))\n",
              "  (20): ReLU(inplace=True)\n",
              "  (21): Conv2d(512, 512, kernel_size=(3, 3), stride=(1, 1), padding=(1, 1))\n",
              "  (22): ReLU(inplace=True)\n",
              "  (23): MaxPool2d(kernel_size=2, stride=2, padding=0, dilation=1, ceil_mode=False)\n",
              "  (24): Conv2d(512, 512, kernel_size=(3, 3), stride=(1, 1), padding=(1, 1))\n",
              "  (25): ReLU(inplace=True)\n",
              "  (26): Conv2d(512, 512, kernel_size=(3, 3), stride=(1, 1), padding=(1, 1))\n",
              "  (27): ReLU(inplace=True)\n",
              "  (28): Conv2d(512, 512, kernel_size=(3, 3), stride=(1, 1), padding=(1, 1))\n",
              "  (29): ReLU(inplace=True)\n",
              "  (30): MaxPool2d(kernel_size=2, stride=2, padding=0, dilation=1, ceil_mode=False)\n",
              ")"
            ]
          },
          "metadata": {},
          "execution_count": 45
        }
      ]
    },
    {
      "cell_type": "markdown",
      "source": [
        "Step 3: In the function get_activation, create hook function to get the output of the bottleneck features of VGG-16.\n",
        "\n",
        "Step 4: Forward pass the 'Original Input' into the model_vgg.\n",
        "\n",
        "Step 5: After step 4, bottleneck features are stored in activation dictionary. Store the the original bottleneck features in the variable 'bottleneck_org'.\n",
        "\n",
        "Step 6: Forward pass 'Occ Input' into the model_vgg.\n",
        "\n",
        "Step 7: After step 6, bottleneck features are stored in activation dictionary. Store the the occ bottleneck features in the variable 'bottleneck_oc'.\n",
        "\n",
        "Please see below documentation for hints"
      ],
      "metadata": {
        "id": "Sxpta_Fwtvxk"
      }
    },
    {
      "cell_type": "markdown",
      "source": [
        "https://pytorch.org/docs/stable/generated/torch.nn.modules.module.register_module_forward_hook.html"
      ],
      "metadata": {
        "id": "-h5_dRV4kIPR"
      }
    },
    {
      "cell_type": "code",
      "source": [
        "original_input = preprocess_image(image)\n",
        "occ_input = preprocess_image(occ)"
      ],
      "metadata": {
        "id": "06qXNWcMuzZ-",
        "colab": {
          "base_uri": "https://localhost:8080/"
        },
        "outputId": "372f6cb2-b4c6-4200-ec5a-3d2b258c3287"
      },
      "execution_count": null,
      "outputs": [
        {
          "output_type": "stream",
          "name": "stderr",
          "text": [
            "<ipython-input-40-b7e9a614dc50>:24: DeprecationWarning: ANTIALIAS is deprecated and will be removed in Pillow 10 (2023-07-01). Use LANCZOS or Resampling.LANCZOS instead.\n",
            "  img = img.resize((224, 224), Image.ANTIALIAS)\n"
          ]
        }
      ]
    },
    {
      "cell_type": "code",
      "source": [
        "model_vgg.eval()\n",
        "\n",
        "activation = {}\n",
        "\n",
        "def get_activation(name):\n",
        "  ##YOUR CODE STARTS HERE\n",
        "    def hook(model, input, output):\n",
        "        activation[name] = output\n",
        "    return hook\n",
        "  ## YOUR CODE ENDS HERE\n",
        "\n",
        "model_vgg.features.register_forward_hook(get_activation('features'))\n",
        "\n",
        "##YOUR CODE STARTS HERE\n",
        "model_vgg(original_input)\n",
        "## YOUR CODE ENDS HERE\n",
        "bottleneck_org = activation['features']\n",
        "\n",
        "\n",
        "##YOUR CODE STARTS HERE\n",
        "model_vgg(occ_input)\n",
        "## YOUR CODE ENDS HERE\n",
        "\n",
        "bottleneck_occ = activation['features']\n"
      ],
      "metadata": {
        "id": "I7r-R8CrdYPd"
      },
      "execution_count": null,
      "outputs": []
    },
    {
      "cell_type": "code",
      "source": [
        "print((bottleneck_org-bottleneck_occ).mean())"
      ],
      "metadata": {
        "id": "QFI3i3KWjPLr",
        "colab": {
          "base_uri": "https://localhost:8080/"
        },
        "outputId": "e2e55602-bd99-46db-aeba-6562cf5c8da4"
      },
      "execution_count": null,
      "outputs": [
        {
          "output_type": "stream",
          "name": "stdout",
          "text": [
            "tensor(0.1169, grad_fn=<MeanBackward0>)\n"
          ]
        }
      ]
    },
    {
      "cell_type": "markdown",
      "source": [
        "### Question 5:\n",
        "The mean of the difference between Original bottleneck layers and Occuluded bottleneck layers? (The output of the above print statement)\n",
        "\n",
        "a) 0.1169 \\\\\n",
        "b) -0.1169 \\\\\n",
        "c) 0.2014 \\\\\n",
        "d) -0.2014"
      ],
      "metadata": {
        "id": "xGHuon9jwenT"
      }
    },
    {
      "cell_type": "markdown",
      "source": [
        "**Class Attribution Map (CAM) calculation.**"
      ],
      "metadata": {
        "id": "VinhJqhcww10"
      }
    },
    {
      "cell_type": "code",
      "source": [
        "## DO NOT CHANGE\n",
        "torch.manual_seed(2022)\n",
        "conv_feature = torch.randn((1,512,7,7))\n",
        "wts=torch.rand((10,512))"
      ],
      "metadata": {
        "id": "FFZW3UrFPbVK"
      },
      "execution_count": null,
      "outputs": []
    },
    {
      "cell_type": "markdown",
      "source": [
        "We will define a function CAM() that returns CAM maps given the convolution features and the weights\n",
        "\n",
        "Step 1: Define a for loop for each element in the 'cls_list' variable.\n",
        "\n",
        "Step 2: Create an empty list named 'output_cam'\n",
        "\n",
        "Step 3: Resize the conv_feature tensor into shape (channels, h*w) and store it in the variable resize_feature\n",
        "\n",
        "Step 4: Calculate the matrix multiplication of the wts matrix for a particular class and the resize_feature variable and store it in the variable 'cam'.\n",
        "\n",
        "Step 5: Reshape cam variable into shape (h,w) and store it in the vairable 'cam'"
      ],
      "metadata": {
        "id": "OmX58xMaw5IK"
      }
    },
    {
      "cell_type": "code",
      "source": [
        "def CAM(conv_feature, wts,cls_list):\n",
        "    \"\"\"\n",
        "    arguments:\n",
        "    conv_feature: the feature maps of the last convolutional layer\n",
        "    wts: the weights that have been extracted from the trained parameters\n",
        "    \"\"\"\n",
        "    up_shape = (224, 224)\n",
        "    batch_size, channels, h, w = conv_feature.shape\n",
        "    ## YOUR CODE STARTS HERE##\n",
        "    for idx in cls_list:\n",
        "      output_cam = []\n",
        "      resize_feature = conv_feature[0].reshape(channels, h * w)\n",
        "      cam = torch.mm(wts[idx].unsqueeze(0), resize_feature)\n",
        "      cam = cam.reshape(h, w)\n",
        "      ## YOUR CODE ENDS HERE##\n",
        "      cam = cam - torch.min(cam)\n",
        "      cam_img = cam / torch.max(cam)\n",
        "      cam_img = np.uint8(255 * cam_img)\n",
        "      output_cam.append(cv2.resize(cam_img, up_shape))\n",
        "    return output_cam"
      ],
      "metadata": {
        "id": "4UyIgPSkOpON"
      },
      "execution_count": null,
      "outputs": []
    },
    {
      "cell_type": "code",
      "source": [
        "CAM = CAM(conv_feature,wts,[6])\n",
        "plt.imshow(CAM[0])\n",
        "print(\"Mean value of the attribution map: \"+str(CAM[0].mean()))"
      ],
      "metadata": {
        "id": "owF0dDAoT6ZT",
        "colab": {
          "base_uri": "https://localhost:8080/",
          "height": 451
        },
        "outputId": "365ca9d0-0ecd-4caf-8955-ab7afd588b99"
      },
      "execution_count": null,
      "outputs": [
        {
          "output_type": "stream",
          "name": "stdout",
          "text": [
            "Mean value of the attribution map: 110.38111846301021\n"
          ]
        },
        {
          "output_type": "display_data",
          "data": {
            "text/plain": [
              "<Figure size 640x480 with 1 Axes>"
            ],
            "image/png": "[encoded data removed]"
          },
          "metadata": {}
        }
      ]
    },
    {
      "cell_type": "markdown",
      "source": [
        "### Question 6:\n",
        "What is the mean value of the attribution map for class 6? (Selected the closest option)\n",
        "\n",
        "a) 50 \\\\\n",
        "b) 100 \\\\\n",
        "c) 150  \n",
        "d) 200"
      ],
      "metadata": {
        "id": "mphCTGDVycXm"
      }
    },
    {
      "cell_type": "code",
      "source": [],
      "metadata": {
        "id": "zdWti_pSh97N"
      },
      "execution_count": null,
      "outputs": []
    }
  ]
}